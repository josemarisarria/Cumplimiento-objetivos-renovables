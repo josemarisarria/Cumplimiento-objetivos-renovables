{
 "cells": [
  {
   "cell_type": "code",
   "execution_count": 1,
   "metadata": {},
   "outputs": [],
   "source": [
    "import pandas as pd\n",
    "import numpy as np\n",
    "import matplotlib.pyplot as plt\n",
    "import seaborn as sns"
   ]
  },
  {
   "cell_type": "code",
   "execution_count": 2,
   "metadata": {},
   "outputs": [],
   "source": [
    "from sklearn.model_selection import train_test_split\n",
    "from sklearn.ensemble import RandomForestRegressor\n",
    "from sklearn.metrics import mean_absolute_error\n",
    "from sklearn.metrics import mean_squared_error\n",
    "from sklearn.linear_model import LinearRegression\n",
    "from sklearn.linear_model import LogisticRegression"
   ]
  },
  {
   "cell_type": "code",
   "execution_count": 3,
   "metadata": {},
   "outputs": [],
   "source": [
    "df=pd.read_csv('./datos/total_time_series.csv')"
   ]
  },
  {
   "cell_type": "markdown",
   "metadata": {},
   "source": [
    "# Ya se ha hecho anteriormente dos modelos, regresion lineal y regresion polinómica. La regresión polinómica descartada por los malos resultados. \n",
    "# La regresión lineal ha estado bien, siempre y cuando se pida predicción de valores dentro de una lógica\n",
    " \n",
    "# Vamos a trabajar con timeseries "
   ]
  },
  {
   "cell_type": "code",
   "execution_count": 4,
   "metadata": {},
   "outputs": [
    {
     "data": {
      "text/plain": [
       "Index(['Unnamed: 0', 'Year', 'Wind (% electricity)', 'Solar (% electricity)',\n",
       "       '% coches'],\n",
       "      dtype='object')"
      ]
     },
     "execution_count": 4,
     "metadata": {},
     "output_type": "execute_result"
    }
   ],
   "source": [
    "df.columns"
   ]
  },
  {
   "cell_type": "code",
   "execution_count": 5,
   "metadata": {},
   "outputs": [
    {
     "data": {
      "text/html": [
       "<div>\n",
       "<style scoped>\n",
       "    .dataframe tbody tr th:only-of-type {\n",
       "        vertical-align: middle;\n",
       "    }\n",
       "\n",
       "    .dataframe tbody tr th {\n",
       "        vertical-align: top;\n",
       "    }\n",
       "\n",
       "    .dataframe thead th {\n",
       "        text-align: right;\n",
       "    }\n",
       "</style>\n",
       "<table border=\"1\" class=\"dataframe\">\n",
       "  <thead>\n",
       "    <tr style=\"text-align: right;\">\n",
       "      <th></th>\n",
       "      <th>Unnamed: 0</th>\n",
       "      <th>Wind (% electricity)</th>\n",
       "      <th>Solar (% electricity)</th>\n",
       "      <th>% coches</th>\n",
       "    </tr>\n",
       "    <tr>\n",
       "      <th>Year</th>\n",
       "      <th></th>\n",
       "      <th></th>\n",
       "      <th></th>\n",
       "      <th></th>\n",
       "    </tr>\n",
       "  </thead>\n",
       "  <tbody>\n",
       "    <tr>\n",
       "      <th>1990-01-01 00:00:00</th>\n",
       "      <td>0</td>\n",
       "      <td>0.033880</td>\n",
       "      <td>0.000506</td>\n",
       "      <td>0.0</td>\n",
       "    </tr>\n",
       "    <tr>\n",
       "      <th>1990-02-01</th>\n",
       "      <td>1</td>\n",
       "      <td>0.034548</td>\n",
       "      <td>0.000512</td>\n",
       "      <td>0.0</td>\n",
       "    </tr>\n",
       "    <tr>\n",
       "      <th>1990-03-01</th>\n",
       "      <td>2</td>\n",
       "      <td>0.035216</td>\n",
       "      <td>0.000518</td>\n",
       "      <td>0.0</td>\n",
       "    </tr>\n",
       "    <tr>\n",
       "      <th>1990-04-01</th>\n",
       "      <td>3</td>\n",
       "      <td>0.035884</td>\n",
       "      <td>0.000525</td>\n",
       "      <td>0.0</td>\n",
       "    </tr>\n",
       "    <tr>\n",
       "      <th>1990-05-01</th>\n",
       "      <td>4</td>\n",
       "      <td>0.036552</td>\n",
       "      <td>0.000531</td>\n",
       "      <td>0.0</td>\n",
       "    </tr>\n",
       "    <tr>\n",
       "      <th>...</th>\n",
       "      <td>...</td>\n",
       "      <td>...</td>\n",
       "      <td>...</td>\n",
       "      <td>...</td>\n",
       "    </tr>\n",
       "    <tr>\n",
       "      <th>2022-08-01</th>\n",
       "      <td>391</td>\n",
       "      <td>15.010179</td>\n",
       "      <td>7.267374</td>\n",
       "      <td>21.0</td>\n",
       "    </tr>\n",
       "    <tr>\n",
       "      <th>2022-09-01</th>\n",
       "      <td>392</td>\n",
       "      <td>15.010179</td>\n",
       "      <td>7.267374</td>\n",
       "      <td>21.0</td>\n",
       "    </tr>\n",
       "    <tr>\n",
       "      <th>2022-10-01</th>\n",
       "      <td>393</td>\n",
       "      <td>15.010179</td>\n",
       "      <td>7.267374</td>\n",
       "      <td>21.0</td>\n",
       "    </tr>\n",
       "    <tr>\n",
       "      <th>2022-11-01</th>\n",
       "      <td>394</td>\n",
       "      <td>15.010179</td>\n",
       "      <td>7.267374</td>\n",
       "      <td>21.0</td>\n",
       "    </tr>\n",
       "    <tr>\n",
       "      <th>2022-12-01</th>\n",
       "      <td>395</td>\n",
       "      <td>15.010179</td>\n",
       "      <td>7.267374</td>\n",
       "      <td>21.0</td>\n",
       "    </tr>\n",
       "  </tbody>\n",
       "</table>\n",
       "<p>396 rows × 4 columns</p>\n",
       "</div>"
      ],
      "text/plain": [
       "                     Unnamed: 0  Wind (% electricity)  Solar (% electricity)  \\\n",
       "Year                                                                           \n",
       "1990-01-01 00:00:00           0              0.033880               0.000506   \n",
       "1990-02-01                    1              0.034548               0.000512   \n",
       "1990-03-01                    2              0.035216               0.000518   \n",
       "1990-04-01                    3              0.035884               0.000525   \n",
       "1990-05-01                    4              0.036552               0.000531   \n",
       "...                         ...                   ...                    ...   \n",
       "2022-08-01                  391             15.010179               7.267374   \n",
       "2022-09-01                  392             15.010179               7.267374   \n",
       "2022-10-01                  393             15.010179               7.267374   \n",
       "2022-11-01                  394             15.010179               7.267374   \n",
       "2022-12-01                  395             15.010179               7.267374   \n",
       "\n",
       "                     % coches  \n",
       "Year                           \n",
       "1990-01-01 00:00:00       0.0  \n",
       "1990-02-01                0.0  \n",
       "1990-03-01                0.0  \n",
       "1990-04-01                0.0  \n",
       "1990-05-01                0.0  \n",
       "...                       ...  \n",
       "2022-08-01               21.0  \n",
       "2022-09-01               21.0  \n",
       "2022-10-01               21.0  \n",
       "2022-11-01               21.0  \n",
       "2022-12-01               21.0  \n",
       "\n",
       "[396 rows x 4 columns]"
      ]
     },
     "execution_count": 5,
     "metadata": {},
     "output_type": "execute_result"
    }
   ],
   "source": [
    "df = pd.read_csv('./datos/total_time_series.csv', parse_dates=['Year'], index_col='Year')\n",
    "\n",
    "# Draw Plot\n",
    "'''def plot_df(df, x, y, title=\"\", xlabel='Year', ylabel='Wind (% electricity)', dpi=100):\n",
    "    plt.figure(figsize=(16,5), dpi=dpi)\n",
    "    plt.plot(x, y, color='tab:red')\n",
    "    plt.gca().set(title=title, xlabel=xlabel, ylabel=ylabel)\n",
    "    plt.show()\n",
    "\n",
    "plot_df(df, x=df.index, y=df['Wind (% electricity)'], title='Evolución eolica') '''\n",
    "df"
   ]
  },
  {
   "cell_type": "code",
   "execution_count": 6,
   "metadata": {},
   "outputs": [
    {
     "data": {
      "text/plain": [
       "\"# Import Data\\ndf = pd.read_csv('./datos/total_time_series.csv', parse_dates=['Year'], index_col='Year')\\n\\n# Multiplicative Decomposition \\nresult_mul = seasonal_decompose(df['Wind (% electricity)'], model = 'multiplicative')#, extrapolate_trend = 'freq')\\n\\n# Additive Decomposition\\nresult_add = seasonal_decompose(df['Wind (% electricity)'], model = 'additive')#, extrapolate_trend = 'freq')\\n\\n# Plot\\nplt.rcParams.update({'figure.figsize': (6,6)})\\nresult_mul.plot();\""
      ]
     },
     "execution_count": 6,
     "metadata": {},
     "output_type": "execute_result"
    }
   ],
   "source": [
    "from statsmodels.tsa.seasonal import seasonal_decompose\n",
    "from dateutil.parser import parse\n",
    "\n",
    "'''# Import Data\n",
    "df = pd.read_csv('./datos/total_time_series.csv', parse_dates=['Year'], index_col='Year')\n",
    "\n",
    "# Multiplicative Decomposition \n",
    "result_mul = seasonal_decompose(df['Wind (% electricity)'], model = 'multiplicative')#, extrapolate_trend = 'freq')\n",
    "\n",
    "# Additive Decomposition\n",
    "result_add = seasonal_decompose(df['Wind (% electricity)'], model = 'additive')#, extrapolate_trend = 'freq')\n",
    "\n",
    "# Plot\n",
    "plt.rcParams.update({'figure.figsize': (6,6)})\n",
    "result_mul.plot();'''\n",
    "## DA ERROR"
   ]
  },
  {
   "cell_type": "code",
   "execution_count": 7,
   "metadata": {},
   "outputs": [],
   "source": [
    "# librerias\n",
    "from statsmodels.tsa.stattools import pacf\n",
    "from statsmodels.tsa.stattools import acf\n",
    "from statsmodels.graphics.tsaplots import plot_pacf\n",
    "from statsmodels.graphics.tsaplots import plot_acf\n",
    "from statsmodels.tsa.stattools import adfuller\n",
    "\n",
    "from pmdarima.arima import auto_arima\n",
    "from pmdarima.arima import ARIMA\n",
    "\n",
    "import matplotlib.pyplot as plt\n",
    "import pandas as pd\n",
    "import numpy as np\n",
    "from sklearn.metrics import mean_squared_error\n",
    "\n",
    "import warnings\n",
    "warnings.filterwarnings('ignore')"
   ]
  },
  {
   "cell_type": "markdown",
   "metadata": {},
   "source": [
    "### PONEMOS EL DATAFRAME AJUSTADO Y CON EL DATE DE INDEX\n"
   ]
  },
  {
   "cell_type": "code",
   "execution_count": null,
   "metadata": {},
   "outputs": [],
   "source": [
    "#pruebas=pd.read_csv('./datos/total_fecha')"
   ]
  },
  {
   "cell_type": "code",
   "execution_count": 8,
   "metadata": {},
   "outputs": [],
   "source": [
    "df = pd.read_csv('./datos/total_time_series.csv', parse_dates=['Year'], index_col='Year')\n",
    "df=df.drop('Unnamed: 0',axis=1)\n",
    "df['Renovables']=df['Wind (% electricity)']+df['Solar (% electricity)']\n"
   ]
  },
  {
   "cell_type": "code",
   "execution_count": 9,
   "metadata": {},
   "outputs": [
    {
     "data": {
      "text/html": [
       "<div>\n",
       "<style scoped>\n",
       "    .dataframe tbody tr th:only-of-type {\n",
       "        vertical-align: middle;\n",
       "    }\n",
       "\n",
       "    .dataframe tbody tr th {\n",
       "        vertical-align: top;\n",
       "    }\n",
       "\n",
       "    .dataframe thead th {\n",
       "        text-align: right;\n",
       "    }\n",
       "</style>\n",
       "<table border=\"1\" class=\"dataframe\">\n",
       "  <thead>\n",
       "    <tr style=\"text-align: right;\">\n",
       "      <th></th>\n",
       "      <th>Wind (% electricity)</th>\n",
       "      <th>Solar (% electricity)</th>\n",
       "      <th>% coches</th>\n",
       "      <th>Renovables</th>\n",
       "    </tr>\n",
       "    <tr>\n",
       "      <th>Year</th>\n",
       "      <th></th>\n",
       "      <th></th>\n",
       "      <th></th>\n",
       "      <th></th>\n",
       "    </tr>\n",
       "  </thead>\n",
       "  <tbody>\n",
       "    <tr>\n",
       "      <th>1990-01-01 00:00:00</th>\n",
       "      <td>0.033880</td>\n",
       "      <td>0.000506</td>\n",
       "      <td>0.0</td>\n",
       "      <td>0.034386</td>\n",
       "    </tr>\n",
       "    <tr>\n",
       "      <th>1990-02-01</th>\n",
       "      <td>0.034548</td>\n",
       "      <td>0.000512</td>\n",
       "      <td>0.0</td>\n",
       "      <td>0.035061</td>\n",
       "    </tr>\n",
       "    <tr>\n",
       "      <th>1990-03-01</th>\n",
       "      <td>0.035216</td>\n",
       "      <td>0.000518</td>\n",
       "      <td>0.0</td>\n",
       "      <td>0.035735</td>\n",
       "    </tr>\n",
       "    <tr>\n",
       "      <th>1990-04-01</th>\n",
       "      <td>0.035884</td>\n",
       "      <td>0.000525</td>\n",
       "      <td>0.0</td>\n",
       "      <td>0.036409</td>\n",
       "    </tr>\n",
       "    <tr>\n",
       "      <th>1990-05-01</th>\n",
       "      <td>0.036552</td>\n",
       "      <td>0.000531</td>\n",
       "      <td>0.0</td>\n",
       "      <td>0.037084</td>\n",
       "    </tr>\n",
       "    <tr>\n",
       "      <th>...</th>\n",
       "      <td>...</td>\n",
       "      <td>...</td>\n",
       "      <td>...</td>\n",
       "      <td>...</td>\n",
       "    </tr>\n",
       "    <tr>\n",
       "      <th>2022-08-01</th>\n",
       "      <td>15.010179</td>\n",
       "      <td>7.267374</td>\n",
       "      <td>21.0</td>\n",
       "      <td>22.277553</td>\n",
       "    </tr>\n",
       "    <tr>\n",
       "      <th>2022-09-01</th>\n",
       "      <td>15.010179</td>\n",
       "      <td>7.267374</td>\n",
       "      <td>21.0</td>\n",
       "      <td>22.277553</td>\n",
       "    </tr>\n",
       "    <tr>\n",
       "      <th>2022-10-01</th>\n",
       "      <td>15.010179</td>\n",
       "      <td>7.267374</td>\n",
       "      <td>21.0</td>\n",
       "      <td>22.277553</td>\n",
       "    </tr>\n",
       "    <tr>\n",
       "      <th>2022-11-01</th>\n",
       "      <td>15.010179</td>\n",
       "      <td>7.267374</td>\n",
       "      <td>21.0</td>\n",
       "      <td>22.277553</td>\n",
       "    </tr>\n",
       "    <tr>\n",
       "      <th>2022-12-01</th>\n",
       "      <td>15.010179</td>\n",
       "      <td>7.267374</td>\n",
       "      <td>21.0</td>\n",
       "      <td>22.277553</td>\n",
       "    </tr>\n",
       "  </tbody>\n",
       "</table>\n",
       "<p>396 rows × 4 columns</p>\n",
       "</div>"
      ],
      "text/plain": [
       "                     Wind (% electricity)  Solar (% electricity)  % coches  \\\n",
       "Year                                                                         \n",
       "1990-01-01 00:00:00              0.033880               0.000506       0.0   \n",
       "1990-02-01                       0.034548               0.000512       0.0   \n",
       "1990-03-01                       0.035216               0.000518       0.0   \n",
       "1990-04-01                       0.035884               0.000525       0.0   \n",
       "1990-05-01                       0.036552               0.000531       0.0   \n",
       "...                                   ...                    ...       ...   \n",
       "2022-08-01                      15.010179               7.267374      21.0   \n",
       "2022-09-01                      15.010179               7.267374      21.0   \n",
       "2022-10-01                      15.010179               7.267374      21.0   \n",
       "2022-11-01                      15.010179               7.267374      21.0   \n",
       "2022-12-01                      15.010179               7.267374      21.0   \n",
       "\n",
       "                     Renovables  \n",
       "Year                             \n",
       "1990-01-01 00:00:00    0.034386  \n",
       "1990-02-01             0.035061  \n",
       "1990-03-01             0.035735  \n",
       "1990-04-01             0.036409  \n",
       "1990-05-01             0.037084  \n",
       "...                         ...  \n",
       "2022-08-01            22.277553  \n",
       "2022-09-01            22.277553  \n",
       "2022-10-01            22.277553  \n",
       "2022-11-01            22.277553  \n",
       "2022-12-01            22.277553  \n",
       "\n",
       "[396 rows x 4 columns]"
      ]
     },
     "execution_count": 9,
     "metadata": {},
     "output_type": "execute_result"
    }
   ],
   "source": [
    "df"
   ]
  },
  {
   "cell_type": "markdown",
   "metadata": {},
   "source": [
    "comprobamos si es estacionaria"
   ]
  },
  {
   "cell_type": "code",
   "execution_count": 10,
   "metadata": {},
   "outputs": [
    {
     "data": {
      "text/plain": [
       "0.9988772133629019"
      ]
     },
     "execution_count": 10,
     "metadata": {},
     "output_type": "execute_result"
    }
   ],
   "source": [
    "from statsmodels.tsa.stattools import adfuller, kpss\n",
    "\n",
    "result = adfuller(df['Renovables'].values)\n",
    "result[1]"
   ]
  },
  {
   "cell_type": "code",
   "execution_count": 26,
   "metadata": {},
   "outputs": [],
   "source": [
    "#X"
   ]
  },
  {
   "cell_type": "code",
   "execution_count": 22,
   "metadata": {},
   "outputs": [
    {
     "data": {
      "text/plain": [
       "396"
      ]
     },
     "metadata": {},
     "output_type": "display_data"
    }
   ],
   "source": [
    "X = df[['Renovables']].values\n",
    "display(len(X))\n",
    "train = X[:316]\n",
    "test = X[316:]"
   ]
  },
  {
   "cell_type": "code",
   "execution_count": 31,
   "metadata": {},
   "outputs": [],
   "source": [
    "import matplotlib.pyplot as plt"
   ]
  },
  {
   "cell_type": "code",
   "execution_count": 35,
   "metadata": {},
   "outputs": [
    {
     "data": {
      "text/plain": [
       "[<matplotlib.lines.Line2D at 0x24f3d4a3c90>]"
      ]
     },
     "execution_count": 35,
     "metadata": {},
     "output_type": "execute_result"
    },
    {
     "data": {
      "image/png": "[encoded data removed]",
      "text/plain": [
       "<Figure size 640x480 with 1 Axes>"
      ]
     },
     "metadata": {},
     "output_type": "display_data"
    }
   ],
   "source": [
    "\n",
    "plt.plot(df.index, df['Renovables'])"
   ]
  },
  {
   "cell_type": "code",
   "execution_count": 36,
   "metadata": {},
   "outputs": [],
   "source": [
    "#X"
   ]
  },
  {
   "cell_type": "markdown",
   "metadata": {},
   "source": [
    "## si hay que hacer separado sumo wind y solar en una columna y dejo dos columans y hago en dos columnas paralelas"
   ]
  },
  {
   "cell_type": "code",
   "execution_count": 24,
   "metadata": {},
   "outputs": [
    {
     "name": "stdout",
     "output_type": "stream",
     "text": [
      "Performing stepwise search to minimize aic\n",
      " ARIMA(1,0,1)(0,0,0)[0] intercept   : AIC=-1221.472, Time=0.28 sec\n",
      " ARIMA(0,0,0)(0,0,0)[0] intercept   : AIC=1786.558, Time=0.01 sec\n",
      " ARIMA(1,0,0)(0,0,0)[0] intercept   : AIC=inf, Time=0.13 sec\n",
      " ARIMA(0,0,1)(0,0,0)[0] intercept   : AIC=inf, Time=0.08 sec\n",
      " ARIMA(0,0,0)(0,0,0)[0]             : AIC=1959.700, Time=0.00 sec\n",
      " ARIMA(2,0,1)(0,0,0)[0] intercept   : AIC=inf, Time=0.34 sec\n",
      " ARIMA(1,0,2)(0,0,0)[0] intercept   : AIC=-1391.906, Time=0.42 sec\n",
      " ARIMA(0,0,2)(0,0,0)[0] intercept   : AIC=inf, Time=0.28 sec\n",
      " ARIMA(2,0,2)(0,0,0)[0] intercept   : AIC=-1205.652, Time=0.50 sec\n",
      " ARIMA(1,0,3)(0,0,0)[0] intercept   : AIC=-1533.955, Time=0.47 sec\n",
      " ARIMA(0,0,3)(0,0,0)[0] intercept   : AIC=inf, Time=0.35 sec\n",
      " ARIMA(2,0,3)(0,0,0)[0] intercept   : AIC=-1411.973, Time=0.64 sec\n",
      " ARIMA(1,0,4)(0,0,0)[0] intercept   : AIC=-1628.795, Time=0.63 sec\n",
      " ARIMA(0,0,4)(0,0,0)[0] intercept   : AIC=inf, Time=0.48 sec\n",
      " ARIMA(2,0,4)(0,0,0)[0] intercept   : AIC=-1539.723, Time=0.74 sec\n",
      " ARIMA(1,0,5)(0,0,0)[0] intercept   : AIC=-1659.196, Time=0.65 sec\n",
      " ARIMA(0,0,5)(0,0,0)[0] intercept   : AIC=inf, Time=0.49 sec\n",
      " ARIMA(2,0,5)(0,0,0)[0] intercept   : AIC=-1634.084, Time=0.75 sec\n",
      " ARIMA(1,0,5)(0,0,0)[0]             : AIC=inf, Time=0.53 sec\n",
      "\n",
      "Best model:  ARIMA(1,0,5)(0,0,0)[0] intercept\n",
      "Total fit time: 7.787 seconds\n"
     ]
    }
   ],
   "source": [
    "from pmdarima.arima import auto_arima\n",
    "\n",
    "#### EL AUTOARIMA SIEMPRE PARA OBTENER LOS PARAMETROS OPTIMOS PARA EL MODELO ARIMA \n",
    "\n",
    "\n",
    "###  SIEMPRE\n",
    "\n",
    "model = auto_arima(train,\n",
    "                   start_p = 1,\n",
    "                   start_q = 1,\n",
    "                   max_p = 5,\n",
    "                   max_q = 5,\n",
    "                   max_d = 3,\n",
    "                   stationary=True,  ##### siempre trabajan con stacinary true sino da mal\n",
    "                   trace=True)"
   ]
  },
  {
   "cell_type": "code",
   "execution_count": 25,
   "metadata": {},
   "outputs": [
    {
     "data": {
      "text/plain": [
       "80"
      ]
     },
     "execution_count": 25,
     "metadata": {},
     "output_type": "execute_result"
    }
   ],
   "source": [
    "len(test)"
   ]
  },
  {
   "cell_type": "code",
   "execution_count": 26,
   "metadata": {},
   "outputs": [],
   "source": [
    "from sklearn.metrics import mean_squared_error"
   ]
  },
  {
   "cell_type": "code",
   "execution_count": 27,
   "metadata": {},
   "outputs": [
    {
     "name": "stdout",
     "output_type": "stream",
     "text": [
      "root_mean_squared_error: 6.731768393663447\n"
     ]
    },
    {
     "data": {
      "text/plain": [
       "array([13.21013228, 13.2364935 , 13.23146125, 13.18125798, 13.15444331,\n",
       "       13.12695502, 13.09956697, 13.0722788 , 13.04509014, 13.01800063,\n",
       "       12.99100991, 12.96411762, 12.9373234 , 12.91062688, 12.88402773,\n",
       "       12.85752557, 12.83112006, 12.80481084, 12.77859757, 12.75247988,\n",
       "       12.72645745, 12.70052991, 12.67469692, 12.64895813, 12.62331321,\n",
       "       12.59776181, 12.57230359, 12.54693821, 12.52166533, 12.49648461,\n",
       "       12.47139572, 12.44639832, 12.42149208, 12.39667667, 12.37195175,\n",
       "       12.347317  , 12.32277208, 12.29831667, 12.27395045, 12.24967308,\n",
       "       12.22548425, 12.20138362, 12.17737089, 12.15344572, 12.1296078 ,\n",
       "       12.10585681, 12.08219244, 12.05861436, 12.03512226, 12.01171584,\n",
       "       11.98839477, 11.96515875, 11.94200746, 11.9189406 , 11.89595786,\n",
       "       11.87305893, 11.85024351, 11.82751129, 11.80486196, 11.78229524,\n",
       "       11.7598108 , 11.73740837, 11.71508763, 11.69284828, 11.67069004,\n",
       "       11.6486126 , 11.62661567, 11.60469896, 11.58286218, 11.56110503,\n",
       "       11.53942722, 11.51782846, 11.49630847, 11.47486695, 11.45350363,\n",
       "       11.43221821, 11.41101042, 11.38987996, 11.36882657, 11.34784994])"
      ]
     },
     "execution_count": 27,
     "metadata": {},
     "output_type": "execute_result"
    }
   ],
   "source": [
    "model_ar = ARIMA(order=(1,0,5)) ### arima p d q     PONEMOS LOS VALORES DEL AUTOARIMA\n",
    "model_ar.fit(train)\n",
    "predictions = model_ar.predict(80) ### en predict hay que poner los números faltantes...los del test\n",
    "print(\"root_mean_squared_error:\", np.sqrt(mean_squared_error(test, predictions)))\n",
    "predictions"
   ]
  },
  {
   "cell_type": "code",
   "execution_count": 28,
   "metadata": {},
   "outputs": [],
   "source": [
    "valor_predicho = model_ar.predict(start='2040-01-01', end='2041-12-01')"
   ]
  },
  {
   "cell_type": "code",
   "execution_count": 29,
   "metadata": {},
   "outputs": [
    {
     "data": {
      "text/plain": [
       "array([13.21013228, 13.2364935 , 13.23146125, 13.18125798, 13.15444331,\n",
       "       13.12695502, 13.09956697, 13.0722788 , 13.04509014, 13.01800063])"
      ]
     },
     "execution_count": 29,
     "metadata": {},
     "output_type": "execute_result"
    }
   ],
   "source": [
    "valor_predicho"
   ]
  },
  {
   "cell_type": "code",
   "execution_count": 37,
   "metadata": {},
   "outputs": [
    {
     "data": {
      "text/plain": [
       "pandas.core.series.Series"
      ]
     },
     "execution_count": 37,
     "metadata": {},
     "output_type": "execute_result"
    }
   ],
   "source": [
    "type(test)"
   ]
  },
  {
   "cell_type": "code",
   "execution_count": 21,
   "metadata": {},
   "outputs": [
    {
     "data": {
      "image/png": "[encoded data removed]",
      "text/plain": [
       "<Figure size 640x480 with 1 Axes>"
      ]
     },
     "metadata": {},
     "output_type": "display_data"
    }
   ],
   "source": [
    "plt.plot(test, label='Valor test')\n",
    "plt.plot(predictions, label='Valor prediccion')\n",
    "plt.legend()\n",
    "plt.show()"
   ]
  },
  {
   "cell_type": "code",
   "execution_count": 19,
   "metadata": {},
   "outputs": [],
   "source": [
    "df['value_log'] = np.log(df['Renovables'])\n"
   ]
  },
  {
   "cell_type": "code",
   "execution_count": 20,
   "metadata": {},
   "outputs": [
    {
     "data": {
      "text/html": [
       "<div>\n",
       "<style scoped>\n",
       "    .dataframe tbody tr th:only-of-type {\n",
       "        vertical-align: middle;\n",
       "    }\n",
       "\n",
       "    .dataframe tbody tr th {\n",
       "        vertical-align: top;\n",
       "    }\n",
       "\n",
       "    .dataframe thead th {\n",
       "        text-align: right;\n",
       "    }\n",
       "</style>\n",
       "<table border=\"1\" class=\"dataframe\">\n",
       "  <thead>\n",
       "    <tr style=\"text-align: right;\">\n",
       "      <th></th>\n",
       "      <th>Wind (% electricity)</th>\n",
       "      <th>Solar (% electricity)</th>\n",
       "      <th>% coches</th>\n",
       "      <th>Renovables</th>\n",
       "      <th>value_log</th>\n",
       "    </tr>\n",
       "    <tr>\n",
       "      <th>Year</th>\n",
       "      <th></th>\n",
       "      <th></th>\n",
       "      <th></th>\n",
       "      <th></th>\n",
       "      <th></th>\n",
       "    </tr>\n",
       "  </thead>\n",
       "  <tbody>\n",
       "    <tr>\n",
       "      <th>1990-01-01 00:00:00</th>\n",
       "      <td>0.033880</td>\n",
       "      <td>0.000506</td>\n",
       "      <td>0.0</td>\n",
       "      <td>0.034386</td>\n",
       "      <td>-3.370103</td>\n",
       "    </tr>\n",
       "    <tr>\n",
       "      <th>1990-02-01</th>\n",
       "      <td>0.034548</td>\n",
       "      <td>0.000512</td>\n",
       "      <td>0.0</td>\n",
       "      <td>0.035061</td>\n",
       "      <td>-3.350680</td>\n",
       "    </tr>\n",
       "    <tr>\n",
       "      <th>1990-03-01</th>\n",
       "      <td>0.035216</td>\n",
       "      <td>0.000518</td>\n",
       "      <td>0.0</td>\n",
       "      <td>0.035735</td>\n",
       "      <td>-3.331626</td>\n",
       "    </tr>\n",
       "    <tr>\n",
       "      <th>1990-04-01</th>\n",
       "      <td>0.035884</td>\n",
       "      <td>0.000525</td>\n",
       "      <td>0.0</td>\n",
       "      <td>0.036409</td>\n",
       "      <td>-3.312929</td>\n",
       "    </tr>\n",
       "    <tr>\n",
       "      <th>1990-05-01</th>\n",
       "      <td>0.036552</td>\n",
       "      <td>0.000531</td>\n",
       "      <td>0.0</td>\n",
       "      <td>0.037084</td>\n",
       "      <td>-3.294576</td>\n",
       "    </tr>\n",
       "  </tbody>\n",
       "</table>\n",
       "</div>"
      ],
      "text/plain": [
       "                     Wind (% electricity)  Solar (% electricity)  % coches  \\\n",
       "Year                                                                         \n",
       "1990-01-01 00:00:00              0.033880               0.000506       0.0   \n",
       "1990-02-01                       0.034548               0.000512       0.0   \n",
       "1990-03-01                       0.035216               0.000518       0.0   \n",
       "1990-04-01                       0.035884               0.000525       0.0   \n",
       "1990-05-01                       0.036552               0.000531       0.0   \n",
       "\n",
       "                     Renovables  value_log  \n",
       "Year                                        \n",
       "1990-01-01 00:00:00    0.034386  -3.370103  \n",
       "1990-02-01             0.035061  -3.350680  \n",
       "1990-03-01             0.035735  -3.331626  \n",
       "1990-04-01             0.036409  -3.312929  \n",
       "1990-05-01             0.037084  -3.294576  "
      ]
     },
     "execution_count": 20,
     "metadata": {},
     "output_type": "execute_result"
    }
   ],
   "source": [
    "df.head()"
   ]
  },
  {
   "cell_type": "code",
   "execution_count": 25,
   "metadata": {},
   "outputs": [],
   "source": [
    "train_log = df['value_log'].iloc[:316]\n",
    "test_log = df['value_log'].iloc[316:]"
   ]
  },
  {
   "cell_type": "code",
   "execution_count": 26,
   "metadata": {},
   "outputs": [
    {
     "name": "stdout",
     "output_type": "stream",
     "text": [
      "Performing stepwise search to minimize aic\n",
      " ARIMA(1,2,1)(0,0,0)[0]             : AIC=-2634.715, Time=0.10 sec\n",
      " ARIMA(0,2,0)(0,0,0)[0]             : AIC=-2632.538, Time=0.02 sec\n",
      " ARIMA(1,2,0)(0,0,0)[0]             : AIC=-2630.856, Time=0.02 sec\n",
      " ARIMA(0,2,1)(0,0,0)[0]             : AIC=-2630.877, Time=0.05 sec\n",
      " ARIMA(2,2,1)(0,0,0)[0]             : AIC=-2633.042, Time=0.05 sec\n",
      " ARIMA(1,2,2)(0,0,0)[0]             : AIC=-2632.892, Time=0.08 sec\n",
      " ARIMA(0,2,2)(0,0,0)[0]             : AIC=-2629.194, Time=0.06 sec\n",
      " ARIMA(2,2,0)(0,0,0)[0]             : AIC=-2629.139, Time=0.09 sec\n",
      " ARIMA(2,2,2)(0,0,0)[0]             : AIC=-2631.157, Time=0.17 sec\n",
      " ARIMA(1,2,1)(0,0,0)[0] intercept   : AIC=-2632.876, Time=0.08 sec\n",
      "\n",
      "Best model:  ARIMA(1,2,1)(0,0,0)[0]          \n",
      "Total fit time: 0.725 seconds\n"
     ]
    }
   ],
   "source": [
    "model_log = auto_arima(train_log,\n",
    "                   start_p = 1,\n",
    "                   start_q = 1,\n",
    "                   max_p = 5,\n",
    "                   max_q = 5,\n",
    "                   max_d = 3,\n",
    "                   trace=True)"
   ]
  },
  {
   "cell_type": "code",
   "execution_count": 33,
   "metadata": {},
   "outputs": [
    {
     "name": "stdout",
     "output_type": "stream",
     "text": [
      "root_mean_squared_error: 0.0835813368411285\n"
     ]
    },
    {
     "data": {
      "text/plain": [
       "316    2.584447\n",
       "317    2.594459\n",
       "318    2.604218\n",
       "319    2.613735\n",
       "320    2.623023\n",
       "         ...   \n",
       "391    2.949532\n",
       "392    2.950556\n",
       "393    2.951488\n",
       "394    2.952328\n",
       "395    2.953077\n",
       "Length: 80, dtype: float64"
      ]
     },
     "execution_count": 33,
     "metadata": {},
     "output_type": "execute_result"
    }
   ],
   "source": [
    "model_ar = ARIMA(order=(1,2,1)) ### arima p d q     PONEMOS LOS VALORES DEL AUTOARIMA\n",
    "model_ar.fit(train)\n",
    "predictions = model_ar.predict(80) ### en predict hay que poner los números faltantes...los del test\n",
    "print(\"root_mean_squared_error:\", np.sqrt(mean_squared_error(test, predictions)))\n",
    "predictions"
   ]
  },
  {
   "cell_type": "code",
   "execution_count": 34,
   "metadata": {},
   "outputs": [],
   "source": [
    "model_ar.fit(train_log)\n",
    "predictions1 = model_ar.predict(80)"
   ]
  },
  {
   "cell_type": "code",
   "execution_count": 32,
   "metadata": {},
   "outputs": [
    {
     "data": {
      "text/plain": [
       "[<matplotlib.lines.Line2D at 0x1528443ebd0>]"
      ]
     },
     "execution_count": 32,
     "metadata": {},
     "output_type": "execute_result"
    },
    {
     "data": {
      "image/png": "[encoded data removed]",
      "text/plain": [
       "<Figure size 640x480 with 1 Axes>"
      ]
     },
     "metadata": {},
     "output_type": "display_data"
    }
   ],
   "source": [
    "plt.plot(predictions1)\n",
    "plt.plot(test)"
   ]
  }
 ],
 "metadata": {
  "kernelspec": {
   "display_name": "Python 3",
   "language": "python",
   "name": "python3"
  },
  "language_info": {
   "codemirror_mode": {
    "name": "ipython",
    "version": 3
   },
   "file_extension": ".py",
   "mimetype": "text/x-python",
   "name": "python",
   "nbconvert_exporter": "python",
   "pygments_lexer": "ipython3",
   "version": "3.11.5"
  }
 },
 "nbformat": 4,
 "nbformat_minor": 2
}
